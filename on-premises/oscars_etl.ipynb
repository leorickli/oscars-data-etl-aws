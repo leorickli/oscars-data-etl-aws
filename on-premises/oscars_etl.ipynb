{
 "cells": [
  {
   "metadata": {},
   "cell_type": "markdown",
   "source": [
    "# Oscars ETL Data Engineering Project\n",
    "\n",
    "This notebook extracts, transforms, and loads data about Oscar-winning films from a web source."
   ],
   "id": "89d750a8068209d2"
  },
  {
   "metadata": {
    "ExecuteTime": {
     "end_time": "2024-07-08T19:09:03.431959Z",
     "start_time": "2024-07-08T19:09:02.781604Z"
    }
   },
   "cell_type": "code",
   "source": [
    "import pandas as pd\n",
    "import requests\n",
    "import re"
   ],
   "id": "f62235497444de55",
   "outputs": [],
   "execution_count": 1
  },
  {
   "metadata": {},
   "cell_type": "markdown",
   "source": [
    "## Extract\n",
    "\n",
    "Extracting data from the web source. The \"year\" field was already cleaned in this phase as a \"pre-transform\" measure."
   ],
   "id": "c6379bc6f9f2e4bb"
  },
  {
   "metadata": {
    "ExecuteTime": {
     "end_time": "2024-07-08T19:09:03.437103Z",
     "start_time": "2024-07-08T19:09:03.434374Z"
    }
   },
   "cell_type": "code",
   "source": [
    "# Function to get the JSON data from the URL\n",
    "def fetch_json_data(url):\n",
    "    response = requests.get(url)\n",
    "    if response.status_code == 200:\n",
    "        return response.json()\n",
    "    else:\n",
    "        raise Exception(f\"Failed to fetch data from {url}, status code: {response.status_code}\")"
   ],
   "id": "cbe2e910ccef9266",
   "outputs": [],
   "execution_count": 2
  },
  {
   "metadata": {
    "ExecuteTime": {
     "end_time": "2024-07-08T19:09:03.440661Z",
     "start_time": "2024-07-08T19:09:03.438246Z"
    }
   },
   "cell_type": "code",
   "source": [
    "# Function to clean the year field and extract the latest year mentioned\n",
    "def extract_latest_year(year_text):\n",
    "    match = re.search(r'(\\d{2})(\\d{2}) / (\\d{2})', year_text)\n",
    "    if match:\n",
    "        return int(f\"{match.group(1)}{match.group(3)}\")\n",
    "    else:\n",
    "        # If the pattern does not match, fall back to finding the latest year\n",
    "        matches = re.findall(r'\\d{4}', year_text)\n",
    "        if matches:\n",
    "            return max(map(int, matches))\n",
    "    return None"
   ],
   "id": "8261a72974dab62a",
   "outputs": [],
   "execution_count": 3
  },
  {
   "metadata": {
    "ExecuteTime": {
     "end_time": "2024-07-08T19:09:03.444132Z",
     "start_time": "2024-07-08T19:09:03.442081Z"
    }
   },
   "cell_type": "code",
   "source": [
    "# Function to get the budget from the film's detail URL\n",
    "def fetch_budget(url):\n",
    "    try:\n",
    "        response = requests.get(url)\n",
    "        if response.status_code == 200:\n",
    "            film_data = response.json()\n",
    "            return film_data.get('Budget', 0)\n",
    "        else:\n",
    "            return 0\n",
    "    except:\n",
    "        return 0"
   ],
   "id": "6d49886752bc70bc",
   "outputs": [],
   "execution_count": 4
  },
  {
   "metadata": {
    "ExecuteTime": {
     "end_time": "2024-07-08T19:11:58.854817Z",
     "start_time": "2024-07-08T19:09:03.444745Z"
    }
   },
   "cell_type": "code",
   "source": [
    "# URL of the JSON file\n",
    "url = \"http://oscars.yipitdata.com/\"\n",
    "\n",
    "# Fetch data\n",
    "data = fetch_json_data(url)\n",
    "\n",
    "# Extract the required information\n",
    "films_data = []\n",
    "for year_data in data['results']:\n",
    "    year = extract_latest_year(year_data.get('year', ''))\n",
    "    for film in year_data['films']:\n",
    "        detail_url = film.get('Detail URL')\n",
    "        budget = fetch_budget(detail_url)\n",
    "        film_info = {\n",
    "            'film': film.get('Film'),\n",
    "            'year': year,\n",
    "            'wiki_url': film.get('Wiki URL'),\n",
    "            'oscar_winner': film.get('Winner'),\n",
    "            'budget': budget\n",
    "        }\n",
    "        films_data.append(film_info)"
   ],
   "id": "4837984a1c753146",
   "outputs": [],
   "execution_count": 5
  },
  {
   "metadata": {},
   "cell_type": "markdown",
   "source": [
    "## Transform\n",
    "\n",
    "Transformation was mainly focused on the \"budget\" field."
   ],
   "id": "8d517bd5fc9f6eb4"
  },
  {
   "metadata": {},
   "cell_type": "code",
   "outputs": [],
   "execution_count": null,
   "source": [
    "# Convert to Pandas DataFrame\n",
    "films_df = pd.DataFrame(films_data)"
   ],
   "id": "418635fcc113685c"
  },
  {
   "metadata": {
    "ExecuteTime": {
     "end_time": "2024-07-08T19:11:58.860745Z",
     "start_time": "2024-07-08T19:11:58.855697Z"
    }
   },
   "cell_type": "code",
   "source": [
    "def clean_budget(budget):\n",
    "    if isinstance(budget, (int, float)):\n",
    "        return budget\n",
    "    \n",
    "    # Remove content inside brackets and parentheses\n",
    "    budget = re.sub(r'\\[.*?\\]|\\(.*?\\)', '', budget).strip()\n",
    "    \n",
    "    # Get the highest value in case of a range of values\n",
    "    # if '–' in budget or '-' in budget:\n",
    "    #     budget = budget.replace('–', '-')\n",
    "    #     parts = budget.split('-')\n",
    "    #     if not parts[1].startswith('$'):\n",
    "    #         budget = \"$\" + parts[1].strip()\n",
    "    #     else:\n",
    "    #         budget = parts[1].strip()\n",
    "            \n",
    "    # Check for range and set to $0 if true\n",
    "    if '–' in budget or '-' in budget:\n",
    "        budget = '0'\n",
    "    \n",
    "    # Replace $ with US$ if it starts with $\n",
    "    if budget.startswith('$'):\n",
    "        budget = budget.replace('$', 'US$', 1)\n",
    "        \n",
    "    # Replace USD$ with US$\n",
    "    budget = budget.replace('USD$', 'US$')\n",
    "    \n",
    "    # Detect and replace patterns like \".xxx.xxx\" with \",xxx,xxx\"\n",
    "    budget = re.sub(r'(\\d)\\.(\\d{3})\\.(\\d{3})', r'\\1,\\2,\\3', budget)\n",
    "    \n",
    "    # Convert millions to numbers for different currencies\n",
    "    match = re.match(r'(US\\$|£|€)\\s*([\\d\\.]+)\\s*million', budget, re.IGNORECASE)\n",
    "    if match:\n",
    "        currency = match.group(1)\n",
    "        amount = float(match.group(2))\n",
    "        budget = f'{currency} {amount * 1_000_000:,.0f}'\n",
    "        \n",
    "    # Remove in-between spaces\n",
    "    budget = budget.replace(' ', '')\n",
    "    \n",
    "    return budget\n",
    "\n",
    "# Apply the function to the budget column\n",
    "films_df['budget'] = films_df['budget'].apply(clean_budget)"
   ],
   "id": "476eb84b99b64ce8",
   "outputs": [],
   "execution_count": 6
  },
  {
   "metadata": {
    "ExecuteTime": {
     "end_time": "2024-07-08T19:12:07.075815Z",
     "start_time": "2024-07-08T19:11:58.870708Z"
    }
   },
   "cell_type": "code",
   "source": [
    "# Function to get exchange rates\n",
    "def get_exchange_rate(base_currency, target_currency):\n",
    "    api_key = 'your_api_key_here'\n",
    "    url = f'https://v6.exchangerate-api.com/v6/{api_key}/latest/{base_currency}'\n",
    "    response = requests.get(url)\n",
    "    data = response.json()\n",
    "    return data['conversion_rates'][target_currency]\n",
    "\n",
    "# Function to convert currencies to USD\n",
    "def convert_to_usd(budget):\n",
    "    # Ensure budget is a string\n",
    "    budget = str(budget)\n",
    "    \n",
    "    # Set the 0 string budgets to int\n",
    "    if budget == '0':\n",
    "        return 0\n",
    "    \n",
    "    # Extract currency and amount\n",
    "    match = re.match(r'(US\\$|£|₤|€)\\s*([\\d,\\.]+)', budget)\n",
    "    if match:\n",
    "        currency = match.group(1)\n",
    "        amount = float(match.group(2).replace(',', ''))\n",
    "        \n",
    "        if currency in ['£', '₤']:\n",
    "            # Convert GBP to USD\n",
    "            rate = get_exchange_rate('GBP', 'USD')\n",
    "            amount_in_usd = amount * rate\n",
    "        elif currency == '€':\n",
    "            # Convert EUR to USD\n",
    "            rate = get_exchange_rate('EUR', 'USD')\n",
    "            amount_in_usd = amount * rate\n",
    "        else:\n",
    "            # Already in USD\n",
    "            amount_in_usd = amount\n",
    "        \n",
    "        return int(amount_in_usd)\n",
    "    \n",
    "    # Return 0 if no match\n",
    "    return 0\n",
    "\n",
    "# Apply the conversion function to create a new column\n",
    "films_df['budget_in_usd'] = films_df['budget'].apply(convert_to_usd)"
   ],
   "id": "311acb8250b44c42",
   "outputs": [],
   "execution_count": 8
  },
  {
   "metadata": {},
   "cell_type": "markdown",
   "source": [
    "## Load\n",
    "\n",
    "Loading data into CSV format locally without the index."
   ],
   "id": "d83121e39c58747a"
  },
  {
   "metadata": {
    "ExecuteTime": {
     "end_time": "2024-07-08T19:12:07.079774Z",
     "start_time": "2024-07-08T19:12:07.076564Z"
    }
   },
   "cell_type": "code",
   "source": "films_df.dtypes",
   "id": "b9c1c2bd96e24b7b",
   "outputs": [
    {
     "data": {
      "text/plain": [
       "film             object\n",
       "year              int64\n",
       "wiki_url         object\n",
       "oscar_winner       bool\n",
       "budget           object\n",
       "budget_in_usd     int64\n",
       "dtype: object"
      ]
     },
     "execution_count": 9,
     "metadata": {},
     "output_type": "execute_result"
    }
   ],
   "execution_count": 9
  },
  {
   "metadata": {
    "ExecuteTime": {
     "end_time": "2024-07-08T19:12:07.087622Z",
     "start_time": "2024-07-08T19:12:07.082312Z"
    }
   },
   "cell_type": "code",
   "source": [
    "# Load the file in CSV format\n",
    "films_df.to_csv('films.csv', index=False)"
   ],
   "id": "b17d6228b75ea76b",
   "outputs": [],
   "execution_count": 10
  },
  {
   "metadata": {
    "ExecuteTime": {
     "end_time": "2024-07-08T19:12:07.089559Z",
     "start_time": "2024-07-08T19:12:07.088191Z"
    }
   },
   "cell_type": "code",
   "source": "",
   "id": "89232a03ee67f6b9",
   "outputs": [],
   "execution_count": 10
  }
 ],
 "metadata": {
  "kernelspec": {
   "display_name": "Python 3",
   "language": "python",
   "name": "python3"
  },
  "language_info": {
   "codemirror_mode": {
    "name": "ipython",
    "version": 2
   },
   "file_extension": ".py",
   "mimetype": "text/x-python",
   "name": "python",
   "nbconvert_exporter": "python",
   "pygments_lexer": "ipython2",
   "version": "2.7.6"
  }
 },
 "nbformat": 4,
 "nbformat_minor": 5
}
